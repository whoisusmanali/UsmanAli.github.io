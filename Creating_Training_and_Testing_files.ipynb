{
  "nbformat": 4,
  "nbformat_minor": 0,
  "metadata": {
    "colab": {
      "provenance": [],
      "authorship_tag": "ABX9TyPRJRysdN+GAUIsDc3V2vYy",
      "include_colab_link": true
    },
    "kernelspec": {
      "name": "python3",
      "display_name": "Python 3"
    },
    "language_info": {
      "name": "python"
    }
  },
  "cells": [
    {
      "cell_type": "markdown",
      "metadata": {
        "id": "view-in-github",
        "colab_type": "text"
      },
      "source": [
        "<a href=\"https://colab.research.google.com/github/whoisusmanali/UsmanAli.github.io/blob/main/Creating_Training_and_Testing_files.ipynb\" target=\"_parent\"><img src=\"https://colab.research.google.com/assets/colab-badge.svg\" alt=\"Open In Colab\"/></a>"
      ]
    },
    {
      "cell_type": "code",
      "execution_count": null,
      "metadata": {
        "colab": {
          "base_uri": "https://localhost:8080/"
        },
        "id": "iPCL0wY5VGv6",
        "outputId": "7d53eb7d-5413-404a-fe8b-2469aa6c2046"
      },
      "outputs": [
        {
          "output_type": "stream",
          "name": "stdout",
          "text": [
            "Mounted at /content/drive\n"
          ]
        }
      ],
      "source": [
        "from google.colab import drive\n",
        "drive.mount('/content/drive')"
      ]
    },
    {
      "cell_type": "code",
      "source": [
        "import os"
      ],
      "metadata": {
        "id": "8InQvMGRVUg2"
      },
      "execution_count": null,
      "outputs": []
    },
    {
      "cell_type": "code",
      "source": [
        "image_path='/content/drive/MyDrive/Datasets/Object Detection(Tea vs Coffee)/DataSet and Annotation/Dataset/train/Coffee_Tea'\n",
        "os.chdir(image_path)"
      ],
      "metadata": {
        "id": "lQh1-sNsVaTH"
      },
      "execution_count": null,
      "outputs": []
    },
    {
      "cell_type": "code",
      "source": [
        "path_list=[]\n",
        "\n",
        "for current_dir, dir, files in os.walk('.'):\n",
        "  for f in files:\n",
        "    if f.endswith('.jpg'):\n",
        "      file_loc=image_path+'/'+f\n",
        "      path_list.append(file_loc+'\\n')"
      ],
      "metadata": {
        "id": "McobwEiPWFM8"
      },
      "execution_count": null,
      "outputs": []
    },
    {
      "cell_type": "code",
      "source": [
        "#Dividing the data into 80 20 percentage\n",
        "path_list_test=path_list[:int(len(path_list)*0.20)]\n",
        "path_list=path_list[int(len(path_list)*0.20):]"
      ],
      "metadata": {
        "id": "NWGCN7aeXYQ9"
      },
      "execution_count": null,
      "outputs": []
    },
    {
      "cell_type": "code",
      "source": [
        "#Create the test and train files\n",
        "with open('train.txt','w') as train:\n",
        "  for i in path_list:\n",
        "    train.write(i)\n",
        "\n",
        "with open('test.txt','w') as test:\n",
        "  for i in path_list_test:\n",
        "    test.write(i)"
      ],
      "metadata": {
        "id": "CLXj4qiZX0SP"
      },
      "execution_count": null,
      "outputs": []
    },
    {
      "cell_type": "code",
      "source": [
        "i=0\n",
        "with open(image_path + '/' + 'classes.names','w') as cls, \\\n",
        "open(image_path + '/' + 'classes.txt', 'r') as text:\n",
        "    for l in text:\n",
        "      cls.write(l)\n",
        "      i+=1"
      ],
      "metadata": {
        "id": "Uc7fv-ssYwzS"
      },
      "execution_count": null,
      "outputs": []
    },
    {
      "cell_type": "code",
      "source": [
        "with open (image_path + '/' + 'image_data.data','w') as data:\n",
        "  data.write('classes=' + str(i)+'\\n')\n",
        "  data.write('train='+image_path+'/'+'train.txt'+'\\n')\n",
        "  data.write('valid='+image_path+'/'+'classes.names'+'\\n')\n",
        "  data.write('backup=backup')"
      ],
      "metadata": {
        "id": "4bVA2R1aZ15K"
      },
      "execution_count": null,
      "outputs": []
    },
    {
      "cell_type": "code",
      "source": [],
      "metadata": {
        "id": "xZop4Y2vbmXz"
      },
      "execution_count": null,
      "outputs": []
    }
  ]
}